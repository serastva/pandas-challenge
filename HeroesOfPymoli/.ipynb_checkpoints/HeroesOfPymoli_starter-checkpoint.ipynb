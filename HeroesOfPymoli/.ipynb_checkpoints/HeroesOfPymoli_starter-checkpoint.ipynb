{
 "cells": [
  {
   "cell_type": "markdown",
   "metadata": {},
   "source": [
    "### Note\n",
    "* Instructions have been included for each segment. You do not have to follow them exactly, but they are included to help you think through the steps."
   ]
  },
  {
   "cell_type": "code",
   "execution_count": 114,
   "metadata": {},
   "outputs": [
    {
     "data": {
      "text/html": [
       "<div>\n",
       "<style scoped>\n",
       "    .dataframe tbody tr th:only-of-type {\n",
       "        vertical-align: middle;\n",
       "    }\n",
       "\n",
       "    .dataframe tbody tr th {\n",
       "        vertical-align: top;\n",
       "    }\n",
       "\n",
       "    .dataframe thead th {\n",
       "        text-align: right;\n",
       "    }\n",
       "</style>\n",
       "<table border=\"1\" class=\"dataframe\">\n",
       "  <thead>\n",
       "    <tr style=\"text-align: right;\">\n",
       "      <th></th>\n",
       "      <th>Purchase ID</th>\n",
       "      <th>SN</th>\n",
       "      <th>Age</th>\n",
       "      <th>Gender</th>\n",
       "      <th>Item ID</th>\n",
       "      <th>Item Name</th>\n",
       "      <th>Price</th>\n",
       "    </tr>\n",
       "  </thead>\n",
       "  <tbody>\n",
       "    <tr>\n",
       "      <th>0</th>\n",
       "      <td>0</td>\n",
       "      <td>Lisim78</td>\n",
       "      <td>20</td>\n",
       "      <td>Male</td>\n",
       "      <td>108</td>\n",
       "      <td>Extraction, Quickblade Of Trembling Hands</td>\n",
       "      <td>$3.53</td>\n",
       "    </tr>\n",
       "    <tr>\n",
       "      <th>1</th>\n",
       "      <td>1</td>\n",
       "      <td>Lisovynya38</td>\n",
       "      <td>40</td>\n",
       "      <td>Male</td>\n",
       "      <td>143</td>\n",
       "      <td>Frenzied Scimitar</td>\n",
       "      <td>$1.56</td>\n",
       "    </tr>\n",
       "    <tr>\n",
       "      <th>2</th>\n",
       "      <td>2</td>\n",
       "      <td>Ithergue48</td>\n",
       "      <td>24</td>\n",
       "      <td>Male</td>\n",
       "      <td>92</td>\n",
       "      <td>Final Critic</td>\n",
       "      <td>$4.88</td>\n",
       "    </tr>\n",
       "    <tr>\n",
       "      <th>3</th>\n",
       "      <td>3</td>\n",
       "      <td>Chamassasya86</td>\n",
       "      <td>24</td>\n",
       "      <td>Male</td>\n",
       "      <td>100</td>\n",
       "      <td>Blindscythe</td>\n",
       "      <td>$3.27</td>\n",
       "    </tr>\n",
       "    <tr>\n",
       "      <th>4</th>\n",
       "      <td>4</td>\n",
       "      <td>Iskosia90</td>\n",
       "      <td>23</td>\n",
       "      <td>Male</td>\n",
       "      <td>131</td>\n",
       "      <td>Fury</td>\n",
       "      <td>$1.44</td>\n",
       "    </tr>\n",
       "  </tbody>\n",
       "</table>\n",
       "</div>"
      ],
      "text/plain": [
       "   Purchase ID             SN  Age Gender  Item ID  \\\n",
       "0            0        Lisim78   20   Male      108   \n",
       "1            1    Lisovynya38   40   Male      143   \n",
       "2            2     Ithergue48   24   Male       92   \n",
       "3            3  Chamassasya86   24   Male      100   \n",
       "4            4      Iskosia90   23   Male      131   \n",
       "\n",
       "                                   Item Name  Price  \n",
       "0  Extraction, Quickblade Of Trembling Hands  $3.53  \n",
       "1                          Frenzied Scimitar  $1.56  \n",
       "2                               Final Critic  $4.88  \n",
       "3                                Blindscythe  $3.27  \n",
       "4                                       Fury  $1.44  "
      ]
     },
     "execution_count": 114,
     "metadata": {},
     "output_type": "execute_result"
    }
   ],
   "source": [
    "# Dependencies and Setup\n",
    "import pandas as pd\n",
    "\n",
    "# File to Load (Remember to Change These)\n",
    "csv_file = \"Resources/purchase_data.csv\"\n",
    "\n",
    "# Read Purchasing File and store into Pandas data frame\n",
    "purchase_data = pd.read_csv(csv_file)\n",
    "purchase_data.head()"
   ]
  },
  {
   "cell_type": "markdown",
   "metadata": {},
   "source": [
    "## Player Count"
   ]
  },
  {
   "cell_type": "markdown",
   "metadata": {},
   "source": [
    "* Display the total number of players\n"
   ]
  },
  {
   "cell_type": "code",
   "execution_count": 115,
   "metadata": {},
   "outputs": [
    {
     "data": {
      "text/html": [
       "<div>\n",
       "<style scoped>\n",
       "    .dataframe tbody tr th:only-of-type {\n",
       "        vertical-align: middle;\n",
       "    }\n",
       "\n",
       "    .dataframe tbody tr th {\n",
       "        vertical-align: top;\n",
       "    }\n",
       "\n",
       "    .dataframe thead th {\n",
       "        text-align: right;\n",
       "    }\n",
       "</style>\n",
       "<table border=\"1\" class=\"dataframe\">\n",
       "  <thead>\n",
       "    <tr style=\"text-align: right;\">\n",
       "      <th></th>\n",
       "      <th>Total Players</th>\n",
       "    </tr>\n",
       "  </thead>\n",
       "  <tbody>\n",
       "    <tr>\n",
       "      <th>0</th>\n",
       "      <td>576</td>\n",
       "    </tr>\n",
       "  </tbody>\n",
       "</table>\n",
       "</div>"
      ],
      "text/plain": [
       "   Total Players\n",
       "0            576"
      ]
     },
     "execution_count": 115,
     "metadata": {},
     "output_type": "execute_result"
    }
   ],
   "source": [
    "#counts unique players in the game and displays the value under a new header \"Total Players\"\n",
    "player_count = len(purchase_data[\"SN\"].unique())\n",
    "player_count_df = pd.DataFrame({\"Total Players\":[player_count]})\n",
    "player_count_df   "
   ]
  },
  {
   "cell_type": "markdown",
   "metadata": {},
   "source": [
    "## Purchasing Analysis (Total)"
   ]
  },
  {
   "cell_type": "markdown",
   "metadata": {},
   "source": [
    "* Run basic calculations to obtain number of unique items, average price, etc.\n",
    "\n",
    "\n",
    "* Create a summary data frame to hold the results\n",
    "\n",
    "\n",
    "* Optional: give the displayed data cleaner formatting\n",
    "\n",
    "\n",
    "* Display the summary data frame\n"
   ]
  },
  {
   "cell_type": "code",
   "execution_count": 116,
   "metadata": {
    "scrolled": true
   },
   "outputs": [],
   "source": [
    "#Runs calculations and obtains the number of unique items\n",
    "unique_items = (purchase_data[\"Item Name\"].unique())\n",
    "unique_items_count = pd.DataFrame(unique_items).count()\n",
    "\n",
    "#Calculates the average price \n",
    "average_price = purchase_data[\"Price\"].mean()\n",
    "\n",
    "#Calculates the average number of purchases\n",
    "number_of_purchases = purchase_data[\"Purchase ID\"].value_counts()\n",
    "number_of_purchases_sum = number_of_purchases.sum()\n",
    "\n",
    "#Calculates the total revenue \n",
    "total_revenue = purchase_data[\"Price\"].sum()\n"
   ]
  },
  {
   "cell_type": "code",
   "execution_count": 117,
   "metadata": {
    "scrolled": true
   },
   "outputs": [
    {
     "data": {
      "text/html": [
       "<div>\n",
       "<style scoped>\n",
       "    .dataframe tbody tr th:only-of-type {\n",
       "        vertical-align: middle;\n",
       "    }\n",
       "\n",
       "    .dataframe tbody tr th {\n",
       "        vertical-align: top;\n",
       "    }\n",
       "\n",
       "    .dataframe thead th {\n",
       "        text-align: right;\n",
       "    }\n",
       "</style>\n",
       "<table border=\"1\" class=\"dataframe\">\n",
       "  <thead>\n",
       "    <tr style=\"text-align: right;\">\n",
       "      <th></th>\n",
       "      <th>Number of Unique Items</th>\n",
       "      <th>Average Price</th>\n",
       "      <th>Number of Purchases</th>\n",
       "      <th>Total Revenue</th>\n",
       "    </tr>\n",
       "  </thead>\n",
       "  <tbody>\n",
       "    <tr>\n",
       "      <th>0</th>\n",
       "      <td>179</td>\n",
       "      <td>$3.05</td>\n",
       "      <td>780</td>\n",
       "      <td>$2,379.77</td>\n",
       "    </tr>\n",
       "  </tbody>\n",
       "</table>\n",
       "</div>"
      ],
      "text/plain": [
       "   Number of Unique Items  Average Price  Number of Purchases  Total Revenue\n",
       "0                     179          $3.05                  780      $2,379.77"
      ]
     },
     "execution_count": 117,
     "metadata": {},
     "output_type": "execute_result"
    }
   ],
   "source": [
    "#Creates the summary dataframe to hold the results and out put them\n",
    "purchases_analysis_total = {\"Number of Unique Items\": unique_items_count,\"Average Price\": average_price, \"Number of Purchases\": number_of_purchases_sum,  \"Total Revenue\": total_revenue}\n",
    "purchases_analysis_total = pd.DataFrame(purchases_analysis_total)\n",
    "\n",
    "#Formats float values to output as $\n",
    "pd.options.display.float_format = '${:,.2f}'.format\n",
    "purchases_analysis_total"
   ]
  },
  {
   "cell_type": "markdown",
   "metadata": {},
   "source": [
    "## Gender Demographics"
   ]
  },
  {
   "cell_type": "markdown",
   "metadata": {},
   "source": [
    "* Percentage and Count of Male Players\n",
    "\n",
    "\n",
    "* Percentage and Count of Female Players\n",
    "\n",
    "\n",
    "* Percentage and Count of Other / Non-Disclosed\n",
    "\n",
    "\n"
   ]
  },
  {
   "cell_type": "code",
   "execution_count": 118,
   "metadata": {},
   "outputs": [],
   "source": [
    "# Using GroupBy in order to separate the data into fields according to \"Gender\" values\n",
    "gender_demographics_df = purchase_data.groupby(\"Gender\").agg({\"SN\":\"unique\"})\n",
    "gender_demographics_df[\"Total Count\"] = gender_demographics_df[\"SN\"].apply(len)\n",
    "gender_demographics_df.drop(columns=\"SN\",inplace=True)"
   ]
  },
  {
   "cell_type": "code",
   "execution_count": 119,
   "metadata": {},
   "outputs": [
    {
     "data": {
      "text/html": [
       "<div>\n",
       "<style scoped>\n",
       "    .dataframe tbody tr th:only-of-type {\n",
       "        vertical-align: middle;\n",
       "    }\n",
       "\n",
       "    .dataframe tbody tr th {\n",
       "        vertical-align: top;\n",
       "    }\n",
       "\n",
       "    .dataframe thead th {\n",
       "        text-align: right;\n",
       "    }\n",
       "</style>\n",
       "<table border=\"1\" class=\"dataframe\">\n",
       "  <thead>\n",
       "    <tr style=\"text-align: right;\">\n",
       "      <th></th>\n",
       "      <th>Total Count</th>\n",
       "      <th>Percentage of Players</th>\n",
       "    </tr>\n",
       "    <tr>\n",
       "      <th>Gender</th>\n",
       "      <th></th>\n",
       "      <th></th>\n",
       "    </tr>\n",
       "  </thead>\n",
       "  <tbody>\n",
       "    <tr>\n",
       "      <th>Male</th>\n",
       "      <td>484</td>\n",
       "      <td>84.03%</td>\n",
       "    </tr>\n",
       "    <tr>\n",
       "      <th>Female</th>\n",
       "      <td>81</td>\n",
       "      <td>14.06%</td>\n",
       "    </tr>\n",
       "    <tr>\n",
       "      <th>Other / Non-Disclosed</th>\n",
       "      <td>11</td>\n",
       "      <td>1.91%</td>\n",
       "    </tr>\n",
       "  </tbody>\n",
       "</table>\n",
       "</div>"
      ],
      "text/plain": [
       "                       Total Count Percentage of Players\n",
       "Gender                                                  \n",
       "Male                           484                84.03%\n",
       "Female                          81                14.06%\n",
       "Other / Non-Disclosed           11                 1.91%"
      ]
     },
     "execution_count": 119,
     "metadata": {},
     "output_type": "execute_result"
    }
   ],
   "source": [
    "gender_demographics_df[\"Percentage of Players\"] = gender_demographics_df[\"Total Count\"] / gender_demographics_df[\"Total Count\"].sum() \n",
    "gender_demographics_df[\"Percentage of Players\"] = gender_demographics_df[\"Percentage of Players\"].map(\"{:.2%}\".format)\n",
    "gender_demographics_df.sort_values(\"Total Count\",ascending=False,inplace=True)\n",
    "gender_demographics_df"
   ]
  },
  {
   "cell_type": "markdown",
   "metadata": {},
   "source": [
    "\n",
    "## Purchasing Analysis (Gender)"
   ]
  },
  {
   "cell_type": "markdown",
   "metadata": {},
   "source": [
    "* Run basic calculations to obtain purchase count, avg. purchase price, avg. purchase total per person etc. by gender\n",
    "\n",
    "\n",
    "\n",
    "\n",
    "* Create a summary data frame to hold the results\n",
    "\n",
    "\n",
    "* Optional: give the displayed data cleaner formatting\n",
    "\n",
    "\n",
    "* Display the summary data frame"
   ]
  },
  {
   "cell_type": "code",
   "execution_count": 120,
   "metadata": {},
   "outputs": [],
   "source": [
    "#Calculates to obtain purchase count, avg purchase price, avg. purchase total,  \n",
    "gender_purchase_analysis_df = purchase_data.groupby(\"Gender\").agg({\"Price\":[\"count\", \"mean\", \"sum\"], \"SN\":\"unique\"})\n",
    "gender_purchase_analysis_df.columns = gender_purchase_analysis_df.columns.map(\"_\".join)\n",
    "\n",
    "gender_purchase_analysis_df[\"SN_count\"] = gender_purchase_analysis_df[\"SN_unique\"].apply(len)\n",
    "gender_purchase_analysis_df[\"Avg Total Purchase per Person\"] = gender_purchase_analysis_df[\"Price_sum\"]\\\n",
    "                                                               / gender_purchase_analysis_df[\"SN_count\"]"
   ]
  },
  {
   "cell_type": "code",
   "execution_count": 121,
   "metadata": {},
   "outputs": [
    {
     "data": {
      "text/html": [
       "<div>\n",
       "<style scoped>\n",
       "    .dataframe tbody tr th:only-of-type {\n",
       "        vertical-align: middle;\n",
       "    }\n",
       "\n",
       "    .dataframe tbody tr th {\n",
       "        vertical-align: top;\n",
       "    }\n",
       "\n",
       "    .dataframe thead th {\n",
       "        text-align: right;\n",
       "    }\n",
       "</style>\n",
       "<table border=\"1\" class=\"dataframe\">\n",
       "  <thead>\n",
       "    <tr style=\"text-align: right;\">\n",
       "      <th></th>\n",
       "      <th>Purchase Count</th>\n",
       "      <th>Average Purchase Price</th>\n",
       "      <th>Total Purchase Value</th>\n",
       "      <th>Avg Total Purchase per Person</th>\n",
       "    </tr>\n",
       "    <tr>\n",
       "      <th>Gender</th>\n",
       "      <th></th>\n",
       "      <th></th>\n",
       "      <th></th>\n",
       "      <th></th>\n",
       "    </tr>\n",
       "  </thead>\n",
       "  <tbody>\n",
       "    <tr>\n",
       "      <th>Female</th>\n",
       "      <td>113</td>\n",
       "      <td>$3.20</td>\n",
       "      <td>$361.94</td>\n",
       "      <td>$4.47</td>\n",
       "    </tr>\n",
       "    <tr>\n",
       "      <th>Male</th>\n",
       "      <td>652</td>\n",
       "      <td>$3.02</td>\n",
       "      <td>$1,967.64</td>\n",
       "      <td>$4.07</td>\n",
       "    </tr>\n",
       "    <tr>\n",
       "      <th>Other / Non-Disclosed</th>\n",
       "      <td>15</td>\n",
       "      <td>$3.35</td>\n",
       "      <td>$50.19</td>\n",
       "      <td>$4.56</td>\n",
       "    </tr>\n",
       "  </tbody>\n",
       "</table>\n",
       "</div>"
      ],
      "text/plain": [
       "                       Purchase Count  Average Purchase Price  \\\n",
       "Gender                                                          \n",
       "Female                            113                   $3.20   \n",
       "Male                              652                   $3.02   \n",
       "Other / Non-Disclosed              15                   $3.35   \n",
       "\n",
       "                       Total Purchase Value  Avg Total Purchase per Person  \n",
       "Gender                                                                      \n",
       "Female                              $361.94                          $4.47  \n",
       "Male                              $1,967.64                          $4.07  \n",
       "Other / Non-Disclosed                $50.19                          $4.56  "
      ]
     },
     "execution_count": 121,
     "metadata": {},
     "output_type": "execute_result"
    }
   ],
   "source": [
    "#Outputs and formats the data\n",
    "column_headers = {\n",
    "                 \"Price_count\":\"Purchase Count\", \n",
    "                 \"Price_mean\":\"Average Purchase Price\", \n",
    "                 \"Price_sum\":\"Total Purchase Value\", \n",
    "                 \"SN_count\":\"Unique Users Count\"\n",
    "                }\n",
    "gender_purchase_analysis_df.rename(columns=column_headers, inplace=True) \n",
    "\n",
    "gender_purchase_analysis_df = gender_purchase_analysis_df[[\"Purchase Count\",\"Average Purchase Price\",\"Total Purchase Value\",\"Avg Total Purchase per Person\"]]\n",
    "\n",
    "gender_purchase_analysis_df"
   ]
  },
  {
   "cell_type": "markdown",
   "metadata": {},
   "source": [
    "## Age Demographics"
   ]
  },
  {
   "cell_type": "markdown",
   "metadata": {},
   "source": [
    "* Establish bins for ages\n",
    "\n",
    "\n",
    "* Categorize the existing players using the age bins. Hint: use pd.cut()\n",
    "\n",
    "\n",
    "* Calculate the numbers and percentages by age group\n",
    "\n",
    "\n",
    "* Create a summary data frame to hold the results\n",
    "\n",
    "\n",
    "* Optional: round the percentage column to two decimal points\n",
    "\n",
    "\n",
    "* Display Age Demographics Table\n"
   ]
  },
  {
   "cell_type": "code",
   "execution_count": 122,
   "metadata": {},
   "outputs": [],
   "source": [
    "# Bins are 0, 9.9, 14.9, 19.9, 24.9, 29.9, 34.9, 39.9, 1000   \n",
    "bins = [0, 9.9, 14.9, 19.9, 24.9, 29.9, 34.9, 39.9, 1000]\n",
    "\n",
    "# Create the names for the bins\n",
    "bin_titles = [\"<10\", \"10-14\", \"15-19\", \"20-24\", \"25-29\",\"30-34\",\"35-39\",\"40+\"]"
   ]
  },
  {
   "cell_type": "code",
   "execution_count": 123,
   "metadata": {},
   "outputs": [],
   "source": [
    "#Sorts age values into the bins\n",
    "purchase_data[\"Age Group\"] = pd.cut(purchase_data[\"Age\"],bins, labels = bin_titles)\n",
    "\n",
    "#Counts total players by age\n",
    "group_by_age = purchase_data.groupby(\"Age Group\")\n",
    "age_count = group_by_age[\"SN\"].nunique()\n",
    "\n",
    "#Calculates the percentage spent by \n",
    "age_percent = (age_count/player_count) * 100\n"
   ]
  },
  {
   "cell_type": "code",
   "execution_count": 124,
   "metadata": {},
   "outputs": [
    {
     "data": {
      "text/html": [
       "<style  type=\"text/css\" >\n",
       "</style><table id=\"T_a3293_\" ><thead>    <tr>        <th class=\"blank level0\" ></th>        <th class=\"col_heading level0 col0\" >Total Count</th>        <th class=\"col_heading level0 col1\" >Percentage of Players</th>    </tr></thead><tbody>\n",
       "                <tr>\n",
       "                        <th id=\"T_a3293_level0_row0\" class=\"row_heading level0 row0\" ><10</th>\n",
       "                        <td id=\"T_a3293_row0_col0\" class=\"data row0 col0\" >17</td>\n",
       "                        <td id=\"T_a3293_row0_col1\" class=\"data row0 col1\" >2.95%</td>\n",
       "            </tr>\n",
       "            <tr>\n",
       "                        <th id=\"T_a3293_level0_row1\" class=\"row_heading level0 row1\" >10-14</th>\n",
       "                        <td id=\"T_a3293_row1_col0\" class=\"data row1 col0\" >22</td>\n",
       "                        <td id=\"T_a3293_row1_col1\" class=\"data row1 col1\" >3.82%</td>\n",
       "            </tr>\n",
       "            <tr>\n",
       "                        <th id=\"T_a3293_level0_row2\" class=\"row_heading level0 row2\" >15-19</th>\n",
       "                        <td id=\"T_a3293_row2_col0\" class=\"data row2 col0\" >107</td>\n",
       "                        <td id=\"T_a3293_row2_col1\" class=\"data row2 col1\" >18.58%</td>\n",
       "            </tr>\n",
       "            <tr>\n",
       "                        <th id=\"T_a3293_level0_row3\" class=\"row_heading level0 row3\" >20-24</th>\n",
       "                        <td id=\"T_a3293_row3_col0\" class=\"data row3 col0\" >258</td>\n",
       "                        <td id=\"T_a3293_row3_col1\" class=\"data row3 col1\" >44.79%</td>\n",
       "            </tr>\n",
       "            <tr>\n",
       "                        <th id=\"T_a3293_level0_row4\" class=\"row_heading level0 row4\" >25-29</th>\n",
       "                        <td id=\"T_a3293_row4_col0\" class=\"data row4 col0\" >77</td>\n",
       "                        <td id=\"T_a3293_row4_col1\" class=\"data row4 col1\" >13.37%</td>\n",
       "            </tr>\n",
       "            <tr>\n",
       "                        <th id=\"T_a3293_level0_row5\" class=\"row_heading level0 row5\" >30-34</th>\n",
       "                        <td id=\"T_a3293_row5_col0\" class=\"data row5 col0\" >52</td>\n",
       "                        <td id=\"T_a3293_row5_col1\" class=\"data row5 col1\" >9.03%</td>\n",
       "            </tr>\n",
       "            <tr>\n",
       "                        <th id=\"T_a3293_level0_row6\" class=\"row_heading level0 row6\" >35-39</th>\n",
       "                        <td id=\"T_a3293_row6_col0\" class=\"data row6 col0\" >31</td>\n",
       "                        <td id=\"T_a3293_row6_col1\" class=\"data row6 col1\" >5.38%</td>\n",
       "            </tr>\n",
       "            <tr>\n",
       "                        <th id=\"T_a3293_level0_row7\" class=\"row_heading level0 row7\" >40+</th>\n",
       "                        <td id=\"T_a3293_row7_col0\" class=\"data row7 col0\" >12</td>\n",
       "                        <td id=\"T_a3293_row7_col1\" class=\"data row7 col1\" >2.08%</td>\n",
       "            </tr>\n",
       "    </tbody></table>"
      ],
      "text/plain": [
       "<pandas.io.formats.style.Styler at 0x1cd2330af70>"
      ]
     },
     "execution_count": 124,
     "metadata": {},
     "output_type": "execute_result"
    }
   ],
   "source": [
    "#Creates a dataframe and formats it \n",
    "age_df = pd.DataFrame({\n",
    "                    \n",
    "                    \"Total Count\":age_count,\n",
    "                    \"Percentage of Players\": age_percent\n",
    "                     })\n",
    "age_df.index.name = None\n",
    "age_df.style.format({\"Percentage of Players\":\"{:,.2f}%\"})"
   ]
  },
  {
   "cell_type": "markdown",
   "metadata": {},
   "source": [
    "## Purchasing Analysis (Age)"
   ]
  },
  {
   "cell_type": "markdown",
   "metadata": {},
   "source": [
    "* Bin the purchase_data data frame by age\n",
    "\n",
    "\n",
    "* Run basic calculations to obtain purchase count, avg. purchase price, avg. purchase total per person etc. in the table below\n",
    "\n",
    "\n",
    "* Create a summary data frame to hold the results\n",
    "\n",
    "\n",
    "* Optional: give the displayed data cleaner formatting\n",
    "\n",
    "\n",
    "* Display the summary data frame"
   ]
  },
  {
   "cell_type": "code",
   "execution_count": 146,
   "metadata": {},
   "outputs": [],
   "source": [
    "# Counts purchases made by an age group\n",
    "purchase_count = group_by_age[\"Purchase ID\"].count()\n",
    "\n",
    "# Calculates the average price per item spent by an age group\n",
    "avg_purchase_price = group_by_age[\"Price\"].mean()\n",
    "\n",
    "# Calculates total spent by an age group\n",
    "total_purchase_value = group_by_age[\"Price\"].sum()\n",
    "\n",
    "# Calculates the average purchase made by the users ine each age group\n",
    "avg_purchase_per_person = total_purchase_value/age_count"
   ]
  },
  {
   "cell_type": "code",
   "execution_count": 147,
   "metadata": {},
   "outputs": [
    {
     "data": {
      "text/html": [
       "<style  type=\"text/css\" >\n",
       "</style><table id=\"T_d3f00_\" ><thead>    <tr>        <th class=\"blank level0\" ></th>        <th class=\"col_heading level0 col0\" >Purchase Count</th>        <th class=\"col_heading level0 col1\" >Average Purchase Price</th>        <th class=\"col_heading level0 col2\" >Total Purchase Value</th>        <th class=\"col_heading level0 col3\" >Avg Total Purchases per Person</th>    </tr></thead><tbody>\n",
       "                <tr>\n",
       "                        <th id=\"T_d3f00_level0_row0\" class=\"row_heading level0 row0\" ><10</th>\n",
       "                        <td id=\"T_d3f00_row0_col0\" class=\"data row0 col0\" >23</td>\n",
       "                        <td id=\"T_d3f00_row0_col1\" class=\"data row0 col1\" >$3.35</td>\n",
       "                        <td id=\"T_d3f00_row0_col2\" class=\"data row0 col2\" >$77.13</td>\n",
       "                        <td id=\"T_d3f00_row0_col3\" class=\"data row0 col3\" >4.537059</td>\n",
       "            </tr>\n",
       "            <tr>\n",
       "                        <th id=\"T_d3f00_level0_row1\" class=\"row_heading level0 row1\" >10-14</th>\n",
       "                        <td id=\"T_d3f00_row1_col0\" class=\"data row1 col0\" >28</td>\n",
       "                        <td id=\"T_d3f00_row1_col1\" class=\"data row1 col1\" >$2.96</td>\n",
       "                        <td id=\"T_d3f00_row1_col2\" class=\"data row1 col2\" >$82.78</td>\n",
       "                        <td id=\"T_d3f00_row1_col3\" class=\"data row1 col3\" >3.762727</td>\n",
       "            </tr>\n",
       "            <tr>\n",
       "                        <th id=\"T_d3f00_level0_row2\" class=\"row_heading level0 row2\" >15-19</th>\n",
       "                        <td id=\"T_d3f00_row2_col0\" class=\"data row2 col0\" >136</td>\n",
       "                        <td id=\"T_d3f00_row2_col1\" class=\"data row2 col1\" >$3.04</td>\n",
       "                        <td id=\"T_d3f00_row2_col2\" class=\"data row2 col2\" >$412.89</td>\n",
       "                        <td id=\"T_d3f00_row2_col3\" class=\"data row2 col3\" >3.858785</td>\n",
       "            </tr>\n",
       "            <tr>\n",
       "                        <th id=\"T_d3f00_level0_row3\" class=\"row_heading level0 row3\" >20-24</th>\n",
       "                        <td id=\"T_d3f00_row3_col0\" class=\"data row3 col0\" >365</td>\n",
       "                        <td id=\"T_d3f00_row3_col1\" class=\"data row3 col1\" >$3.05</td>\n",
       "                        <td id=\"T_d3f00_row3_col2\" class=\"data row3 col2\" >$1,114.06</td>\n",
       "                        <td id=\"T_d3f00_row3_col3\" class=\"data row3 col3\" >4.318062</td>\n",
       "            </tr>\n",
       "            <tr>\n",
       "                        <th id=\"T_d3f00_level0_row4\" class=\"row_heading level0 row4\" >25-29</th>\n",
       "                        <td id=\"T_d3f00_row4_col0\" class=\"data row4 col0\" >101</td>\n",
       "                        <td id=\"T_d3f00_row4_col1\" class=\"data row4 col1\" >$2.90</td>\n",
       "                        <td id=\"T_d3f00_row4_col2\" class=\"data row4 col2\" >$293.00</td>\n",
       "                        <td id=\"T_d3f00_row4_col3\" class=\"data row4 col3\" >3.805195</td>\n",
       "            </tr>\n",
       "            <tr>\n",
       "                        <th id=\"T_d3f00_level0_row5\" class=\"row_heading level0 row5\" >30-34</th>\n",
       "                        <td id=\"T_d3f00_row5_col0\" class=\"data row5 col0\" >73</td>\n",
       "                        <td id=\"T_d3f00_row5_col1\" class=\"data row5 col1\" >$2.93</td>\n",
       "                        <td id=\"T_d3f00_row5_col2\" class=\"data row5 col2\" >$214.00</td>\n",
       "                        <td id=\"T_d3f00_row5_col3\" class=\"data row5 col3\" >4.115385</td>\n",
       "            </tr>\n",
       "            <tr>\n",
       "                        <th id=\"T_d3f00_level0_row6\" class=\"row_heading level0 row6\" >35-39</th>\n",
       "                        <td id=\"T_d3f00_row6_col0\" class=\"data row6 col0\" >41</td>\n",
       "                        <td id=\"T_d3f00_row6_col1\" class=\"data row6 col1\" >$3.60</td>\n",
       "                        <td id=\"T_d3f00_row6_col2\" class=\"data row6 col2\" >$147.67</td>\n",
       "                        <td id=\"T_d3f00_row6_col3\" class=\"data row6 col3\" >4.763548</td>\n",
       "            </tr>\n",
       "            <tr>\n",
       "                        <th id=\"T_d3f00_level0_row7\" class=\"row_heading level0 row7\" >40+</th>\n",
       "                        <td id=\"T_d3f00_row7_col0\" class=\"data row7 col0\" >13</td>\n",
       "                        <td id=\"T_d3f00_row7_col1\" class=\"data row7 col1\" >$2.94</td>\n",
       "                        <td id=\"T_d3f00_row7_col2\" class=\"data row7 col2\" >$38.24</td>\n",
       "                        <td id=\"T_d3f00_row7_col3\" class=\"data row7 col3\" >3.186667</td>\n",
       "            </tr>\n",
       "    </tbody></table>"
      ],
      "text/plain": [
       "<pandas.io.formats.style.Styler at 0x1cd23343700>"
      ]
     },
     "execution_count": 147,
     "metadata": {},
     "output_type": "execute_result"
    }
   ],
   "source": [
    "# Create data frame with obtained values\n",
    "age_demo_df = pd.DataFrame({\n",
    "                                \n",
    "                                  \"Purchase Count\": purchase_count,\n",
    "                                 \"Average Purchase Price\": avg_purchase_price,\n",
    "                                 \"Total Purchase Value\":total_purchase_value,\n",
    "                                 \"Avg Total Purchases per Person\": avg_purchase_per_person\n",
    "                                 })\n",
    "\n",
    "# Format the data frame with no index name in the corner\n",
    "age_demo_df.index.name = None\n",
    "\n",
    "# Format with currency style\n",
    "age_demo_df.style.format({\n",
    "                              \"Average Purchase Price\":\"${:,.2f}\",\n",
    "                               \"Total Purchase Value\":\"${:,.2f}\",\n",
    "                               \"Average Purchase Total per Person\":\"${:,.2f}\"\n",
    "                             })"
   ]
  },
  {
   "cell_type": "markdown",
   "metadata": {},
   "source": [
    "## Top Spenders"
   ]
  },
  {
   "cell_type": "markdown",
   "metadata": {},
   "source": [
    "* Run basic calculations to obtain the results in the table below\n",
    "\n",
    "\n",
    "* Create a summary data frame to hold the results\n",
    "\n",
    "\n",
    "* Sort the total purchase value column in descending order\n",
    "\n",
    "\n",
    "* Optional: give the displayed data cleaner formatting\n",
    "\n",
    "\n",
    "* Display a preview of the summary data frame\n",
    "\n"
   ]
  },
  {
   "cell_type": "code",
   "execution_count": 127,
   "metadata": {},
   "outputs": [],
   "source": [
    "# Groups purchases made by screen name\n",
    "top_spenders = purchase_data.groupby(\"SN\")\n",
    "\n",
    "# Counts purchases made by screen name\n",
    "top_spender_purchase = top_spenders[\"Purchase ID\"].count()\n",
    "\n",
    "#Calculates the average of purchases by a user\n",
    "top_spender_avg_purchase = top_spenders[\"Price\"].mean()\n",
    "\n",
    "# Counts total spent on purchases by a user\n",
    "top_spender_total_purchase = top_spenders[\"Price\"].sum()\n"
   ]
  },
  {
   "cell_type": "code",
   "execution_count": 128,
   "metadata": {},
   "outputs": [
    {
     "data": {
      "text/html": [
       "<style  type=\"text/css\" >\n",
       "</style><table id=\"T_9537a_\" ><thead>    <tr>        <th class=\"blank level0\" ></th>        <th class=\"col_heading level0 col0\" >Purchase Count</th>        <th class=\"col_heading level0 col1\" >Average Purchase Price</th>        <th class=\"col_heading level0 col2\" >Total Purchase Value</th>    </tr>    <tr>        <th class=\"index_name level0\" >SN</th>        <th class=\"blank\" ></th>        <th class=\"blank\" ></th>        <th class=\"blank\" ></th>    </tr></thead><tbody>\n",
       "                <tr>\n",
       "                        <th id=\"T_9537a_level0_row0\" class=\"row_heading level0 row0\" >Lisosia93</th>\n",
       "                        <td id=\"T_9537a_row0_col0\" class=\"data row0 col0\" >5</td>\n",
       "                        <td id=\"T_9537a_row0_col1\" class=\"data row0 col1\" >$3.79</td>\n",
       "                        <td id=\"T_9537a_row0_col2\" class=\"data row0 col2\" >$18.96</td>\n",
       "            </tr>\n",
       "            <tr>\n",
       "                        <th id=\"T_9537a_level0_row1\" class=\"row_heading level0 row1\" >Idastidru52</th>\n",
       "                        <td id=\"T_9537a_row1_col0\" class=\"data row1 col0\" >4</td>\n",
       "                        <td id=\"T_9537a_row1_col1\" class=\"data row1 col1\" >$3.86</td>\n",
       "                        <td id=\"T_9537a_row1_col2\" class=\"data row1 col2\" >$15.45</td>\n",
       "            </tr>\n",
       "            <tr>\n",
       "                        <th id=\"T_9537a_level0_row2\" class=\"row_heading level0 row2\" >Chamjask73</th>\n",
       "                        <td id=\"T_9537a_row2_col0\" class=\"data row2 col0\" >3</td>\n",
       "                        <td id=\"T_9537a_row2_col1\" class=\"data row2 col1\" >$4.61</td>\n",
       "                        <td id=\"T_9537a_row2_col2\" class=\"data row2 col2\" >$13.83</td>\n",
       "            </tr>\n",
       "            <tr>\n",
       "                        <th id=\"T_9537a_level0_row3\" class=\"row_heading level0 row3\" >Iral74</th>\n",
       "                        <td id=\"T_9537a_row3_col0\" class=\"data row3 col0\" >4</td>\n",
       "                        <td id=\"T_9537a_row3_col1\" class=\"data row3 col1\" >$3.40</td>\n",
       "                        <td id=\"T_9537a_row3_col2\" class=\"data row3 col2\" >$13.62</td>\n",
       "            </tr>\n",
       "            <tr>\n",
       "                        <th id=\"T_9537a_level0_row4\" class=\"row_heading level0 row4\" >Iskadarya95</th>\n",
       "                        <td id=\"T_9537a_row4_col0\" class=\"data row4 col0\" >3</td>\n",
       "                        <td id=\"T_9537a_row4_col1\" class=\"data row4 col1\" >$4.37</td>\n",
       "                        <td id=\"T_9537a_row4_col2\" class=\"data row4 col2\" >$13.10</td>\n",
       "            </tr>\n",
       "    </tbody></table>"
      ],
      "text/plain": [
       "<pandas.io.formats.style.Styler at 0x1cd23313520>"
      ]
     },
     "execution_count": 128,
     "metadata": {},
     "output_type": "execute_result"
    }
   ],
   "source": [
    "# Create dataframe \n",
    "top_spenders = pd.DataFrame({\n",
    "                             \"Purchase Count\": top_spender_purchase,\n",
    "                             \"Average Purchase Price\": top_spender_avg_purchase,\n",
    "                             \"Total Purchase Value\":top_spender_total_purchase\n",
    "                            })\n",
    "\n",
    "# Sort in descending order to obtain top 5 spender names \n",
    "formatted_spenders = top_spenders.sort_values([\"Total Purchase Value\"], ascending=False).head()\n",
    "\n",
    "# Format with currency style\n",
    "formatted_spenders.style.format({\n",
    "                                \"Average Purchase Total\":\"${:,.2f}\",\n",
    "                                 \"Average Purchase Price\":\"${:,.2f}\", \n",
    "                                 \"Total Purchase Value\":\"${:,.2f}\"\n",
    "                                })"
   ]
  },
  {
   "cell_type": "markdown",
   "metadata": {},
   "source": [
    "## Most Popular Items"
   ]
  },
  {
   "cell_type": "markdown",
   "metadata": {},
   "source": [
    "* Retrieve the Item ID, Item Name, and Item Price columns\n",
    "\n",
    "\n",
    "* Group by Item ID and Item Name. Perform calculations to obtain purchase count, average item price, and total purchase value\n",
    "\n",
    "\n",
    "* Create a summary data frame to hold the results\n",
    "\n",
    "\n",
    "* Sort the purchase count column in descending order\n",
    "\n",
    "\n",
    "* Optional: give the displayed data cleaner formatting\n",
    "\n",
    "\n",
    "* Display a preview of the summary data frame\n",
    "\n"
   ]
  },
  {
   "cell_type": "code",
   "execution_count": 129,
   "metadata": {},
   "outputs": [],
   "source": [
    "#Gets the Item ID, Item Name and Item Price\n",
    "item_info = purchase_data[[\"Item ID\", \"Item Name\", \"Price\"]]\n",
    "\n",
    "#Groupsby item ID and Item Name\n",
    "items_group = item_info.groupby([\"Item ID\",\"Item Name\"])\n",
    "\n",
    "#Calculates the purchase price\n",
    "purchase_price = (items_group[\"Price\"].sum())\n",
    "\n",
    "#Calculates the item purchase count\n",
    "item_purchase_count = items_group[\"Price\"].count()\n",
    "\n",
    "#Calculates item price\n",
    "item_price = purchase_price/item_purchase_count\n"
   ]
  },
  {
   "cell_type": "code",
   "execution_count": 130,
   "metadata": {},
   "outputs": [
    {
     "data": {
      "text/html": [
       "<style  type=\"text/css\" >\n",
       "</style><table id=\"T_35a8f_\" ><thead>    <tr>        <th class=\"blank\" ></th>        <th class=\"blank level0\" ></th>        <th class=\"col_heading level0 col0\" >Purchase Count</th>        <th class=\"col_heading level0 col1\" >Item Price</th>        <th class=\"col_heading level0 col2\" >Total Purchase Value</th>    </tr>    <tr>        <th class=\"index_name level0\" >Item ID</th>        <th class=\"index_name level1\" >Item Name</th>        <th class=\"blank\" ></th>        <th class=\"blank\" ></th>        <th class=\"blank\" ></th>    </tr></thead><tbody>\n",
       "                <tr>\n",
       "                        <th id=\"T_35a8f_level0_row0\" class=\"row_heading level0 row0\" >92</th>\n",
       "                        <th id=\"T_35a8f_level1_row0\" class=\"row_heading level1 row0\" >Final Critic</th>\n",
       "                        <td id=\"T_35a8f_row0_col0\" class=\"data row0 col0\" >13</td>\n",
       "                        <td id=\"T_35a8f_row0_col1\" class=\"data row0 col1\" >$4.61</td>\n",
       "                        <td id=\"T_35a8f_row0_col2\" class=\"data row0 col2\" >$59.99</td>\n",
       "            </tr>\n",
       "            <tr>\n",
       "                        <th id=\"T_35a8f_level0_row1\" class=\"row_heading level0 row1\" >178</th>\n",
       "                        <th id=\"T_35a8f_level1_row1\" class=\"row_heading level1 row1\" >Oathbreaker, Last Hope of the Breaking Storm</th>\n",
       "                        <td id=\"T_35a8f_row1_col0\" class=\"data row1 col0\" >12</td>\n",
       "                        <td id=\"T_35a8f_row1_col1\" class=\"data row1 col1\" >$4.23</td>\n",
       "                        <td id=\"T_35a8f_row1_col2\" class=\"data row1 col2\" >$50.76</td>\n",
       "            </tr>\n",
       "            <tr>\n",
       "                        <th id=\"T_35a8f_level0_row2\" class=\"row_heading level0 row2\" >145</th>\n",
       "                        <th id=\"T_35a8f_level1_row2\" class=\"row_heading level1 row2\" >Fiery Glass Crusader</th>\n",
       "                        <td id=\"T_35a8f_row2_col0\" class=\"data row2 col0\" >9</td>\n",
       "                        <td id=\"T_35a8f_row2_col1\" class=\"data row2 col1\" >$4.58</td>\n",
       "                        <td id=\"T_35a8f_row2_col2\" class=\"data row2 col2\" >$41.22</td>\n",
       "            </tr>\n",
       "            <tr>\n",
       "                        <th id=\"T_35a8f_level0_row3\" class=\"row_heading level0 row3\" >132</th>\n",
       "                        <th id=\"T_35a8f_level1_row3\" class=\"row_heading level1 row3\" >Persuasion</th>\n",
       "                        <td id=\"T_35a8f_row3_col0\" class=\"data row3 col0\" >9</td>\n",
       "                        <td id=\"T_35a8f_row3_col1\" class=\"data row3 col1\" >$3.22</td>\n",
       "                        <td id=\"T_35a8f_row3_col2\" class=\"data row3 col2\" >$28.99</td>\n",
       "            </tr>\n",
       "            <tr>\n",
       "                        <th id=\"T_35a8f_level0_row4\" class=\"row_heading level0 row4\" >108</th>\n",
       "                        <th id=\"T_35a8f_level1_row4\" class=\"row_heading level1 row4\" >Extraction, Quickblade Of Trembling Hands</th>\n",
       "                        <td id=\"T_35a8f_row4_col0\" class=\"data row4 col0\" >9</td>\n",
       "                        <td id=\"T_35a8f_row4_col1\" class=\"data row4 col1\" >$3.53</td>\n",
       "                        <td id=\"T_35a8f_row4_col2\" class=\"data row4 col2\" >$31.77</td>\n",
       "            </tr>\n",
       "    </tbody></table>"
      ],
      "text/plain": [
       "<pandas.io.formats.style.Styler at 0x1cd2317ef70>"
      ]
     },
     "execution_count": 130,
     "metadata": {},
     "output_type": "execute_result"
    }
   ],
   "source": [
    "# Create dataframe \n",
    "popular_items_df = pd.DataFrame({\n",
    "                                \"Purchase Count\": item_purchase_count, \n",
    "                                \"Item Price\": item_price,\n",
    "                                \"Total Purchase Value\":purchase_price\n",
    "                                })\n",
    "\n",
    "# Sort in descending order \n",
    "popular_items_formatted = popular_items_df.sort_values([\"Purchase Count\"], ascending=False).head()\n",
    "\n",
    "\n",
    "# Format\n",
    "popular_items_formatted.style.format({\n",
    "                                    \"Total Purchase Value\":\"${:,.2f}\",\n",
    "                                    \"Item Price\":\"${:,.2f}\",\n",
    "                                    })"
   ]
  },
  {
   "cell_type": "markdown",
   "metadata": {},
   "source": [
    "## Most Profitable Items"
   ]
  },
  {
   "cell_type": "markdown",
   "metadata": {},
   "source": [
    "* Sort the above table by total purchase value in descending order\n",
    "\n",
    "\n",
    "* Optional: give the displayed data cleaner formatting\n",
    "\n",
    "\n",
    "* Display a preview of the data frame\n",
    "\n"
   ]
  },
  {
   "cell_type": "code",
   "execution_count": 131,
   "metadata": {
    "scrolled": true
   },
   "outputs": [
    {
     "data": {
      "text/html": [
       "<style  type=\"text/css\" >\n",
       "</style><table id=\"T_bdc43_\" ><thead>    <tr>        <th class=\"blank\" ></th>        <th class=\"blank level0\" ></th>        <th class=\"col_heading level0 col0\" >Purchase Count</th>        <th class=\"col_heading level0 col1\" >Item Price</th>        <th class=\"col_heading level0 col2\" >Total Purchase Value</th>    </tr>    <tr>        <th class=\"index_name level0\" >Item ID</th>        <th class=\"index_name level1\" >Item Name</th>        <th class=\"blank\" ></th>        <th class=\"blank\" ></th>        <th class=\"blank\" ></th>    </tr></thead><tbody>\n",
       "                <tr>\n",
       "                        <th id=\"T_bdc43_level0_row0\" class=\"row_heading level0 row0\" >92</th>\n",
       "                        <th id=\"T_bdc43_level1_row0\" class=\"row_heading level1 row0\" >Final Critic</th>\n",
       "                        <td id=\"T_bdc43_row0_col0\" class=\"data row0 col0\" >13</td>\n",
       "                        <td id=\"T_bdc43_row0_col1\" class=\"data row0 col1\" >$4.61</td>\n",
       "                        <td id=\"T_bdc43_row0_col2\" class=\"data row0 col2\" >$59.99</td>\n",
       "            </tr>\n",
       "            <tr>\n",
       "                        <th id=\"T_bdc43_level0_row1\" class=\"row_heading level0 row1\" >178</th>\n",
       "                        <th id=\"T_bdc43_level1_row1\" class=\"row_heading level1 row1\" >Oathbreaker, Last Hope of the Breaking Storm</th>\n",
       "                        <td id=\"T_bdc43_row1_col0\" class=\"data row1 col0\" >12</td>\n",
       "                        <td id=\"T_bdc43_row1_col1\" class=\"data row1 col1\" >$4.23</td>\n",
       "                        <td id=\"T_bdc43_row1_col2\" class=\"data row1 col2\" >$50.76</td>\n",
       "            </tr>\n",
       "            <tr>\n",
       "                        <th id=\"T_bdc43_level0_row2\" class=\"row_heading level0 row2\" >82</th>\n",
       "                        <th id=\"T_bdc43_level1_row2\" class=\"row_heading level1 row2\" >Nirvana</th>\n",
       "                        <td id=\"T_bdc43_row2_col0\" class=\"data row2 col0\" >9</td>\n",
       "                        <td id=\"T_bdc43_row2_col1\" class=\"data row2 col1\" >$4.90</td>\n",
       "                        <td id=\"T_bdc43_row2_col2\" class=\"data row2 col2\" >$44.10</td>\n",
       "            </tr>\n",
       "            <tr>\n",
       "                        <th id=\"T_bdc43_level0_row3\" class=\"row_heading level0 row3\" >145</th>\n",
       "                        <th id=\"T_bdc43_level1_row3\" class=\"row_heading level1 row3\" >Fiery Glass Crusader</th>\n",
       "                        <td id=\"T_bdc43_row3_col0\" class=\"data row3 col0\" >9</td>\n",
       "                        <td id=\"T_bdc43_row3_col1\" class=\"data row3 col1\" >$4.58</td>\n",
       "                        <td id=\"T_bdc43_row3_col2\" class=\"data row3 col2\" >$41.22</td>\n",
       "            </tr>\n",
       "            <tr>\n",
       "                        <th id=\"T_bdc43_level0_row4\" class=\"row_heading level0 row4\" >103</th>\n",
       "                        <th id=\"T_bdc43_level1_row4\" class=\"row_heading level1 row4\" >Singed Scalpel</th>\n",
       "                        <td id=\"T_bdc43_row4_col0\" class=\"data row4 col0\" >8</td>\n",
       "                        <td id=\"T_bdc43_row4_col1\" class=\"data row4 col1\" >$4.35</td>\n",
       "                        <td id=\"T_bdc43_row4_col2\" class=\"data row4 col2\" >$34.80</td>\n",
       "            </tr>\n",
       "    </tbody></table>"
      ],
      "text/plain": [
       "<pandas.io.formats.style.Styler at 0x1cd23313af0>"
      ]
     },
     "execution_count": 131,
     "metadata": {},
     "output_type": "execute_result"
    }
   ],
   "source": [
    "#Sorts the above table by total purchase value\n",
    "profitable_items = popular_items_df.sort_values([\"Total Purchase Value\"], ascending=False).head()\n",
    "# Format\n",
    "profitable_items.style.format({\n",
    "                            \"Item Price\":\"${:,.2f}\",\n",
    "                            \"Total Purchase Value\":\"${:,.2f}\"\n",
    "                              })"
   ]
  }
 ],
 "metadata": {
  "anaconda-cloud": {},
  "kernel_info": {
   "name": "python3"
  },
  "kernelspec": {
   "display_name": "Python 3",
   "language": "python",
   "name": "python3"
  },
  "language_info": {
   "codemirror_mode": {
    "name": "ipython",
    "version": 3
   },
   "file_extension": ".py",
   "mimetype": "text/x-python",
   "name": "python",
   "nbconvert_exporter": "python",
   "pygments_lexer": "ipython3",
   "version": "3.8.8"
  },
  "latex_envs": {
   "LaTeX_envs_menu_present": true,
   "autoclose": false,
   "autocomplete": true,
   "bibliofile": "biblio.bib",
   "cite_by": "apalike",
   "current_citInitial": 1,
   "eqLabelWithNumbers": true,
   "eqNumInitial": 1,
   "hotkeys": {
    "equation": "Ctrl-E",
    "itemize": "Ctrl-I"
   },
   "labels_anchors": false,
   "latex_user_defs": false,
   "report_style_numbering": false,
   "user_envs_cfg": false
  },
  "nteract": {
   "version": "0.2.0"
  }
 },
 "nbformat": 4,
 "nbformat_minor": 4
}
